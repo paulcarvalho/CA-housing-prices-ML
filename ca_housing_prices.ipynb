{
 "cells": [
  {
   "cell_type": "markdown",
   "id": "10751e51",
   "metadata": {},
   "source": [
    "# California Housing Price Model\n",
    "\n",
    "### Big picture"
   ]
  },
  {
   "cell_type": "code",
   "execution_count": null,
   "id": "3f2eb4e8",
   "metadata": {},
   "outputs": [],
   "source": [
    "from packaging import version\n",
    "import sklearn\n",
    "\n",
    "assert version.parse(sklearn.__version__) >= version.parse(\"1.0.1\")"
   ]
  }
 ],
 "metadata": {
  "language_info": {
   "name": "python"
  }
 },
 "nbformat": 4,
 "nbformat_minor": 5
}
